{
 "cells": [
  {
   "cell_type": "markdown",
   "id": "2e016670",
   "metadata": {},
   "source": [
    "# Overview\n",
    "The Dirty Cafe Sales dataset contains 10,000 rows of synthetic data representing sales transactions in a cafe. This dataset is intentionally \"dirty,\" with missing values, inconsistent data, and errors introduced to provide a realistic scenario for data cleaning and exploratory data analysis (EDA). It can be used to practice cleaning techniques, data wrangling, and feature engineering."
   ]
  },
  {
   "cell_type": "markdown",
   "id": "4e798a45",
   "metadata": {},
   "source": [
    "# Columns Description\n",
    "1. Transaction ID : A unique identifier for each transaction. Always present and unique\n",
    "2. Item : The name of the item purchased. May contain missing or invalid values\n",
    "3. Quantity : The quantity of the item purchased. May contain missing or invalid values.\n",
    "4. Price per Unit : The price of a single unit of the item. May contain missing or invalid values.\n",
    "5. Total spent : The total amount spent on the transaction. Calculated as Quantity x Price per Unit\n",
    "6. Payment Method : The method of payment used. May contain missing or invalid values\n",
    "7. Location : The location where the transaction occured. May contain missing or invalid values.\n",
    "8. Transaction date : The date of the transaction. May contain missing or invalid values "
   ]
  },
  {
   "cell_type": "markdown",
   "id": "813c7fc9",
   "metadata": {},
   "source": [
    "## Import Package and Import Data"
   ]
  },
  {
   "cell_type": "code",
   "execution_count": 1,
   "id": "15ad9c8a",
   "metadata": {},
   "outputs": [],
   "source": [
    "import pandas as pd\n",
    "import numpy as np\n",
    "import matplotlib.pyplot as plt\n",
    "import seaborn as sns\n",
    "import os\n",
    "\n",
    "# pd.set_option(\"display.max_rows\", None)\n",
    "pd.set_option(\"display.max_columns\", None)"
   ]
  },
  {
   "cell_type": "code",
   "execution_count": 2,
   "id": "23fa4b73",
   "metadata": {},
   "outputs": [
    {
     "data": {
      "text/plain": [
       "'C:\\\\Users\\\\Dita Dervinta\\\\Documents\\\\Belajar\\\\Python Scripts\\\\Projects\\\\1. Cafe Sales'"
      ]
     },
     "execution_count": 2,
     "metadata": {},
     "output_type": "execute_result"
    }
   ],
   "source": [
    "os.getcwd()"
   ]
  },
  {
   "cell_type": "code",
   "execution_count": 3,
   "id": "4f913831",
   "metadata": {},
   "outputs": [
    {
     "data": {
      "text/html": [
       "<div>\n",
       "<style scoped>\n",
       "    .dataframe tbody tr th:only-of-type {\n",
       "        vertical-align: middle;\n",
       "    }\n",
       "\n",
       "    .dataframe tbody tr th {\n",
       "        vertical-align: top;\n",
       "    }\n",
       "\n",
       "    .dataframe thead th {\n",
       "        text-align: right;\n",
       "    }\n",
       "</style>\n",
       "<table border=\"1\" class=\"dataframe\">\n",
       "  <thead>\n",
       "    <tr style=\"text-align: right;\">\n",
       "      <th></th>\n",
       "      <th>Transaction ID</th>\n",
       "      <th>Item</th>\n",
       "      <th>Quantity</th>\n",
       "      <th>Price Per Unit</th>\n",
       "      <th>Total Spent</th>\n",
       "      <th>Payment Method</th>\n",
       "      <th>Location</th>\n",
       "      <th>Transaction Date</th>\n",
       "    </tr>\n",
       "  </thead>\n",
       "  <tbody>\n",
       "    <tr>\n",
       "      <th>0</th>\n",
       "      <td>TXN_1961373</td>\n",
       "      <td>Coffee</td>\n",
       "      <td>2</td>\n",
       "      <td>2.0</td>\n",
       "      <td>4.0</td>\n",
       "      <td>Credit Card</td>\n",
       "      <td>Takeaway</td>\n",
       "      <td>2023-09-08</td>\n",
       "    </tr>\n",
       "    <tr>\n",
       "      <th>1</th>\n",
       "      <td>TXN_4977031</td>\n",
       "      <td>Cake</td>\n",
       "      <td>4</td>\n",
       "      <td>3.0</td>\n",
       "      <td>12.0</td>\n",
       "      <td>Cash</td>\n",
       "      <td>In-store</td>\n",
       "      <td>2023-05-16</td>\n",
       "    </tr>\n",
       "    <tr>\n",
       "      <th>2</th>\n",
       "      <td>TXN_4271903</td>\n",
       "      <td>Cookie</td>\n",
       "      <td>4</td>\n",
       "      <td>1.0</td>\n",
       "      <td>ERROR</td>\n",
       "      <td>Credit Card</td>\n",
       "      <td>In-store</td>\n",
       "      <td>2023-07-19</td>\n",
       "    </tr>\n",
       "    <tr>\n",
       "      <th>3</th>\n",
       "      <td>TXN_7034554</td>\n",
       "      <td>Salad</td>\n",
       "      <td>2</td>\n",
       "      <td>5.0</td>\n",
       "      <td>10.0</td>\n",
       "      <td>UNKNOWN</td>\n",
       "      <td>UNKNOWN</td>\n",
       "      <td>2023-04-27</td>\n",
       "    </tr>\n",
       "    <tr>\n",
       "      <th>4</th>\n",
       "      <td>TXN_3160411</td>\n",
       "      <td>Coffee</td>\n",
       "      <td>2</td>\n",
       "      <td>2.0</td>\n",
       "      <td>4.0</td>\n",
       "      <td>Digital Wallet</td>\n",
       "      <td>In-store</td>\n",
       "      <td>2023-06-11</td>\n",
       "    </tr>\n",
       "  </tbody>\n",
       "</table>\n",
       "</div>"
      ],
      "text/plain": [
       "  Transaction ID    Item Quantity Price Per Unit Total Spent  Payment Method  \\\n",
       "0    TXN_1961373  Coffee        2            2.0         4.0     Credit Card   \n",
       "1    TXN_4977031    Cake        4            3.0        12.0            Cash   \n",
       "2    TXN_4271903  Cookie        4            1.0       ERROR     Credit Card   \n",
       "3    TXN_7034554   Salad        2            5.0        10.0         UNKNOWN   \n",
       "4    TXN_3160411  Coffee        2            2.0         4.0  Digital Wallet   \n",
       "\n",
       "   Location Transaction Date  \n",
       "0  Takeaway       2023-09-08  \n",
       "1  In-store       2023-05-16  \n",
       "2  In-store       2023-07-19  \n",
       "3   UNKNOWN       2023-04-27  \n",
       "4  In-store       2023-06-11  "
      ]
     },
     "execution_count": 3,
     "metadata": {},
     "output_type": "execute_result"
    }
   ],
   "source": [
    "sales_data = pd.read_csv(\"cafe_sales.csv\")\n",
    "sales_data.head()"
   ]
  },
  {
   "cell_type": "code",
   "execution_count": 4,
   "id": "3b7f2cc8",
   "metadata": {
    "scrolled": false
   },
   "outputs": [
    {
     "name": "stdout",
     "output_type": "stream",
     "text": [
      "<class 'pandas.core.frame.DataFrame'>\n",
      "RangeIndex: 10000 entries, 0 to 9999\n",
      "Data columns (total 8 columns):\n",
      " #   Column            Non-Null Count  Dtype \n",
      "---  ------            --------------  ----- \n",
      " 0   Transaction ID    10000 non-null  object\n",
      " 1   Item              9667 non-null   object\n",
      " 2   Quantity          9862 non-null   object\n",
      " 3   Price Per Unit    9821 non-null   object\n",
      " 4   Total Spent       9827 non-null   object\n",
      " 5   Payment Method    7421 non-null   object\n",
      " 6   Location          6735 non-null   object\n",
      " 7   Transaction Date  9841 non-null   object\n",
      "dtypes: object(8)\n",
      "memory usage: 625.1+ KB\n"
     ]
    },
    {
     "data": {
      "text/plain": [
       "None"
      ]
     },
     "metadata": {},
     "output_type": "display_data"
    },
    {
     "data": {
      "text/plain": [
       "0"
      ]
     },
     "metadata": {},
     "output_type": "display_data"
    },
    {
     "data": {
      "text/plain": [
       "Transaction ID         0\n",
       "Item                 333\n",
       "Quantity             138\n",
       "Price Per Unit       179\n",
       "Total Spent          173\n",
       "Payment Method      2579\n",
       "Location            3265\n",
       "Transaction Date     159\n",
       "dtype: int64"
      ]
     },
     "metadata": {},
     "output_type": "display_data"
    }
   ],
   "source": [
    "display(sales_data.info(), \n",
    "        sales_data.duplicated().sum(), \n",
    "        sales_data.isna().sum())"
   ]
  },
  {
   "cell_type": "code",
   "execution_count": 5,
   "id": "8a7b8c3f",
   "metadata": {},
   "outputs": [
    {
     "data": {
      "text/plain": [
       "Transaction ID      10000\n",
       "Item                   10\n",
       "Quantity                7\n",
       "Price Per Unit          8\n",
       "Total Spent            19\n",
       "Payment Method          5\n",
       "Location                4\n",
       "Transaction Date      367\n",
       "dtype: int64"
      ]
     },
     "execution_count": 5,
     "metadata": {},
     "output_type": "execute_result"
    }
   ],
   "source": [
    "sales_data.nunique()"
   ]
  },
  {
   "cell_type": "markdown",
   "id": "6044b71d",
   "metadata": {},
   "source": [
    "# Cleansing Data\n",
    "\n",
    "## Fix the \"Item\" Columns"
   ]
  },
  {
   "cell_type": "code",
   "execution_count": 6,
   "id": "1b377135",
   "metadata": {},
   "outputs": [],
   "source": [
    "sales_data = sales_data.replace([\"ERROR\", \"UNKNOWN\"], np.nan)"
   ]
  },
  {
   "cell_type": "code",
   "execution_count": 7,
   "id": "c63045a8",
   "metadata": {},
   "outputs": [
    {
     "name": "stdout",
     "output_type": "stream",
     "text": [
      "<class 'pandas.core.frame.DataFrame'>\n",
      "RangeIndex: 10000 entries, 0 to 9999\n",
      "Data columns (total 8 columns):\n",
      " #   Column            Non-Null Count  Dtype \n",
      "---  ------            --------------  ----- \n",
      " 0   Transaction ID    10000 non-null  object\n",
      " 1   Item              9031 non-null   object\n",
      " 2   Quantity          9521 non-null   object\n",
      " 3   Price Per Unit    9467 non-null   object\n",
      " 4   Total Spent       9498 non-null   object\n",
      " 5   Payment Method    6822 non-null   object\n",
      " 6   Location          6039 non-null   object\n",
      " 7   Transaction Date  9540 non-null   object\n",
      "dtypes: object(8)\n",
      "memory usage: 625.1+ KB\n"
     ]
    }
   ],
   "source": [
    "sales_data.info()"
   ]
  },
  {
   "cell_type": "code",
   "execution_count": 8,
   "id": "b648e4c7",
   "metadata": {
    "scrolled": true
   },
   "outputs": [
    {
     "name": "stdout",
     "output_type": "stream",
     "text": [
      "Transaction ID :\n",
      "['TXN_1961373' 'TXN_4977031' 'TXN_4271903' ... 'TXN_5255387' 'TXN_7695629'\n",
      " 'TXN_6170729']\n",
      "Item :\n",
      "['Coffee' 'Cake' 'Cookie' 'Salad' 'Smoothie' nan 'Sandwich' 'Juice' 'Tea']\n",
      "Quantity :\n",
      "['2' '4' '5' '3' '1' nan]\n",
      "Price Per Unit :\n",
      "['2.0' '3.0' '1.0' '5.0' '4.0' '1.5' nan]\n",
      "Total Spent :\n",
      "['4.0' '12.0' nan '10.0' '20.0' '9.0' '16.0' '15.0' '25.0' '8.0' '5.0'\n",
      " '3.0' '6.0' '2.0' '1.0' '7.5' '4.5' '1.5']\n",
      "Payment Method :\n",
      "['Credit Card' 'Cash' nan 'Digital Wallet']\n",
      "Location :\n",
      "['Takeaway' 'In-store' nan]\n",
      "Transaction Date :\n",
      "['2023-09-08' '2023-05-16' '2023-07-19' '2023-04-27' '2023-06-11'\n",
      " '2023-03-31' '2023-10-06' '2023-10-28' '2023-07-28' '2023-12-31'\n",
      " '2023-11-07' nan '2023-05-03' '2023-06-01' '2023-03-21' '2023-11-15'\n",
      " '2023-06-10' '2023-02-24' '2023-03-25' '2023-01-15' '2023-04-04'\n",
      " '2023-03-30' '2023-12-01' '2023-09-18' '2023-06-03' '2023-12-13'\n",
      " '2023-04-20' '2023-04-10' '2023-03-11' '2023-06-02' '2023-11-06'\n",
      " '2023-08-15' '2023-10-09' '2023-05-28' '2023-07-17' '2023-04-29'\n",
      " '2023-06-08' '2023-06-29' '2023-04-17' '2023-12-22' '2023-01-10'\n",
      " '2023-10-02' '2023-02-23' '2023-03-22' '2023-11-03' '2023-03-02'\n",
      " '2023-06-26' '2023-05-02' '2023-09-05' '2023-01-08' '2023-03-15'\n",
      " '2023-11-25' '2023-12-05' '2023-03-19' '2023-06-27' '2023-04-19'\n",
      " '2023-10-07' '2023-09-30' '2023-05-27' '2023-11-18' '2023-10-20'\n",
      " '2023-10-03' '2023-10-27' '2023-04-06' '2023-01-31' '2023-12-08'\n",
      " '2023-06-19' '2023-12-14' '2023-07-16' '2023-02-22' '2023-06-15'\n",
      " '2023-12-09' '2023-04-18' '2023-10-29' '2023-04-30' '2023-04-02'\n",
      " '2023-05-24' '2023-03-12' '2023-08-16' '2023-09-10' '2023-03-07'\n",
      " '2023-08-07' '2023-08-20' '2023-04-15' '2023-07-25' '2023-10-30'\n",
      " '2023-12-15' '2023-02-25' '2023-04-03' '2023-10-08' '2023-12-28'\n",
      " '2023-08-30' '2023-02-03' '2023-09-12' '2023-05-04' '2023-02-21'\n",
      " '2023-03-16' '2023-02-06' '2023-03-29' '2023-06-18' '2023-09-23'\n",
      " '2023-01-14' '2023-09-14' '2023-09-16' '2023-04-08' '2023-12-19'\n",
      " '2023-07-14' '2023-12-12' '2023-01-05' '2023-01-23' '2023-02-20'\n",
      " '2023-12-06' '2023-05-31' '2023-08-11' '2023-09-03' '2023-07-11'\n",
      " '2023-06-06' '2023-01-18' '2023-03-23' '2023-01-04' '2023-06-23'\n",
      " '2023-08-03' '2023-07-12' '2023-11-02' '2023-07-31' '2023-09-19'\n",
      " '2023-02-09' '2023-09-04' '2023-05-21' '2023-07-02' '2023-07-10'\n",
      " '2023-11-21' '2023-12-02' '2023-03-13' '2023-08-12' '2023-02-16'\n",
      " '2023-04-11' '2023-03-26' '2023-11-01' '2023-07-22' '2023-07-26'\n",
      " '2023-02-28' '2023-01-27' '2023-01-19' '2023-04-07' '2023-03-20'\n",
      " '2023-12-27' '2023-10-26' '2023-02-18' '2023-05-15' '2023-12-10'\n",
      " '2023-04-21' '2023-02-04' '2023-11-12' '2023-08-05' '2023-05-10'\n",
      " '2023-07-15' '2023-01-11' '2023-10-01' '2023-04-26' '2023-08-25'\n",
      " '2023-03-01' '2023-11-13' '2023-07-09' '2023-05-13' '2023-05-18'\n",
      " '2023-01-17' '2023-09-22' '2023-08-22' '2023-07-27' '2023-12-30'\n",
      " '2023-12-21' '2023-09-28' '2023-11-16' '2023-04-14' '2023-01-03'\n",
      " '2023-01-12' '2023-08-31' '2023-07-07' '2023-09-15' '2023-10-21'\n",
      " '2023-09-02' '2023-08-19' '2023-01-06' '2023-10-13' '2023-05-29'\n",
      " '2023-05-22' '2023-11-23' '2023-10-15' '2023-11-14' '2023-11-26'\n",
      " '2023-12-17' '2023-05-09' '2023-10-22' '2023-06-30' '2023-04-25'\n",
      " '2023-02-19' '2023-12-11' '2023-10-12' '2023-07-04' '2023-01-28'\n",
      " '2023-10-04' '2023-02-26' '2023-10-11' '2023-02-14' '2023-04-28'\n",
      " '2023-09-06' '2023-04-23' '2023-01-22' '2023-03-10' '2023-01-09'\n",
      " '2023-12-03' '2023-08-06' '2023-12-29' '2023-02-15' '2023-05-25'\n",
      " '2023-10-31' '2023-02-27' '2023-03-03' '2023-09-27' '2023-08-18'\n",
      " '2023-12-16' '2023-06-07' '2023-05-12' '2023-07-06' '2023-06-20'\n",
      " '2023-08-09' '2023-05-14' '2023-07-18' '2023-10-10' '2023-02-02'\n",
      " '2023-08-14' '2023-09-26' '2023-01-13' '2023-10-16' '2023-11-17'\n",
      " '2023-12-20' '2023-12-04' '2023-02-08' '2023-09-11' '2023-02-01'\n",
      " '2023-02-12' '2023-03-14' '2023-09-29' '2023-04-22' '2023-06-13'\n",
      " '2023-12-24' '2023-03-28' '2023-03-06' '2023-02-11' '2023-01-30'\n",
      " '2023-04-09' '2023-04-16' '2023-12-23' '2023-03-05' '2023-03-24'\n",
      " '2023-07-23' '2023-07-29' '2023-06-05' '2023-10-19' '2023-01-07'\n",
      " '2023-11-29' '2023-07-05' '2023-07-20' '2023-05-07' '2023-08-10'\n",
      " '2023-10-24' '2023-08-13' '2023-08-28' '2023-06-21' '2023-11-10'\n",
      " '2023-10-18' '2023-05-19' '2023-11-09' '2023-06-24' '2023-05-11'\n",
      " '2023-12-07' '2023-09-01' '2023-09-25' '2023-06-22' '2023-05-30'\n",
      " '2023-04-24' '2023-09-20' '2023-02-07' '2023-05-05' '2023-02-10'\n",
      " '2023-11-24' '2023-10-25' '2023-10-05' '2023-07-21' '2023-07-08'\n",
      " '2023-03-17' '2023-10-14' '2023-06-28' '2023-09-09' '2023-08-21'\n",
      " '2023-07-01' '2023-06-14' '2023-03-09' '2023-11-08' '2023-12-26'\n",
      " '2023-09-13' '2023-05-23' '2023-08-24' '2023-04-01' '2023-06-09'\n",
      " '2023-08-23' '2023-08-08' '2023-08-27' '2023-05-26' '2023-06-16'\n",
      " '2023-12-25' '2023-01-25' '2023-10-23' '2023-05-06' '2023-01-29'\n",
      " '2023-08-29' '2023-01-01' '2023-07-24' '2023-04-12' '2023-12-18'\n",
      " '2023-09-21' '2023-05-01' '2023-02-05' '2023-01-24' '2023-01-02'\n",
      " '2023-06-12' '2023-01-16' '2023-10-17' '2023-03-04' '2023-06-17'\n",
      " '2023-03-18' '2023-08-26' '2023-05-17' '2023-11-22' '2023-08-17'\n",
      " '2023-11-19' '2023-11-27' '2023-06-04' '2023-09-17' '2023-11-04'\n",
      " '2023-11-28' '2023-06-25' '2023-04-13' '2023-01-26' '2023-08-04'\n",
      " '2023-05-08' '2023-11-20' '2023-07-13' '2023-09-24' '2023-01-21'\n",
      " '2023-03-08' '2023-09-07' '2023-11-30' '2023-08-02' '2023-04-05'\n",
      " '2023-08-01' '2023-01-20' '2023-11-11' '2023-02-13' '2023-07-30'\n",
      " '2023-02-17' '2023-05-20' '2023-11-05' '2023-03-27' '2023-07-03']\n",
      "Index(['Transaction ID', 'Item', 'Quantity', 'Price Per Unit', 'Total Spent',\n",
      "       'Payment Method', 'Location', 'Transaction Date'],\n",
      "      dtype='object')\n"
     ]
    }
   ],
   "source": [
    "for i in sales_data.columns :\n",
    "    print(f\"{i} :\")\n",
    "    print(sales_data[i].unique())\n",
    "\n",
    "print(sales_data.columns)"
   ]
  },
  {
   "cell_type": "code",
   "execution_count": 9,
   "id": "ec07020f",
   "metadata": {},
   "outputs": [],
   "source": [
    "sales_data[\"Quantity\"] = pd.to_numeric(sales_data[\"Quantity\"], errors = 'coerce')\n",
    "sales_data[\"Price Per Unit\"] = pd.to_numeric(sales_data[\"Price Per Unit\"], errors = 'coerce')\n",
    "sales_data[\"Total Spent\"] = pd.to_numeric(sales_data[\"Total Spent\"], errors = 'coerce')\n",
    "sales_data[\"Transaction Date\"] = pd.to_datetime(sales_data[\"Transaction Date\"])"
   ]
  },
  {
   "cell_type": "code",
   "execution_count": 10,
   "id": "d3cfe309",
   "metadata": {
    "scrolled": true
   },
   "outputs": [
    {
     "name": "stdout",
     "output_type": "stream",
     "text": [
      "<class 'pandas.core.frame.DataFrame'>\n",
      "RangeIndex: 10000 entries, 0 to 9999\n",
      "Data columns (total 8 columns):\n",
      " #   Column            Non-Null Count  Dtype         \n",
      "---  ------            --------------  -----         \n",
      " 0   Transaction ID    10000 non-null  object        \n",
      " 1   Item              9031 non-null   object        \n",
      " 2   Quantity          9521 non-null   float64       \n",
      " 3   Price Per Unit    9467 non-null   float64       \n",
      " 4   Total Spent       9498 non-null   float64       \n",
      " 5   Payment Method    6822 non-null   object        \n",
      " 6   Location          6039 non-null   object        \n",
      " 7   Transaction Date  9540 non-null   datetime64[ns]\n",
      "dtypes: datetime64[ns](1), float64(3), object(4)\n",
      "memory usage: 625.1+ KB\n"
     ]
    }
   ],
   "source": [
    "sales_data.info()"
   ]
  },
  {
   "cell_type": "code",
   "execution_count": 11,
   "id": "39faf4ea",
   "metadata": {},
   "outputs": [],
   "source": [
    "sales_data[\"Price Per Unit\"] = sales_data[\"Price Per Unit\"].fillna(sales_data[\"Total Spent\"] / sales_data[\"Quantity\"])"
   ]
  },
  {
   "cell_type": "code",
   "execution_count": 12,
   "id": "5c070e19",
   "metadata": {
    "scrolled": true
   },
   "outputs": [
    {
     "name": "stdout",
     "output_type": "stream",
     "text": [
      "<class 'pandas.core.series.Series'>\n",
      "RangeIndex: 10000 entries, 0 to 9999\n",
      "Series name: Price Per Unit\n",
      "Non-Null Count  Dtype  \n",
      "--------------  -----  \n",
      "9962 non-null   float64\n",
      "dtypes: float64(1)\n",
      "memory usage: 78.3 KB\n"
     ]
    }
   ],
   "source": [
    "sales_data[\"Price Per Unit\"].info()"
   ]
  },
  {
   "cell_type": "code",
   "execution_count": 13,
   "id": "5b5c07c0",
   "metadata": {},
   "outputs": [],
   "source": [
    "conditions = [(sales_data[\"Item\"].isna()) & (sales_data[\"Price Per Unit\"] == 1.0),\n",
    "              (sales_data[\"Item\"].isna()) & (sales_data[\"Price Per Unit\"] == 1.5),\n",
    "              (sales_data[\"Item\"].isna()) & (sales_data[\"Price Per Unit\"] == 2.0),\n",
    "              (sales_data[\"Item\"].isna()) & (sales_data[\"Price Per Unit\"] == 3.0),\n",
    "              (sales_data[\"Item\"].isna()) & (sales_data[\"Price Per Unit\"] == 4.0),\n",
    "              (sales_data[\"Item\"].isna()) & (sales_data[\"Price Per Unit\"] == 5.0)]\n",
    "\n",
    "item = [\"Cookie\", \"Tea\", \"Coffee\", \"Cake or Juice\", \"Smoothie or Sandwich\", \"Salad\"]\n",
    "\n",
    "sales_data [\"Item\"] = np.select(conditions, item, default = sales_data[\"Item\"])"
   ]
  },
  {
   "cell_type": "code",
   "execution_count": 14,
   "id": "a0dd4729",
   "metadata": {},
   "outputs": [],
   "source": [
    "sales_data[\"Item\"] = sales_data[\"Item\"].fillna(sales_data[\"Item\"].mode()[0])"
   ]
  },
  {
   "cell_type": "code",
   "execution_count": 15,
   "id": "6daa0bee",
   "metadata": {
    "scrolled": true
   },
   "outputs": [
    {
     "name": "stdout",
     "output_type": "stream",
     "text": [
      "<class 'pandas.core.frame.DataFrame'>\n",
      "RangeIndex: 10000 entries, 0 to 9999\n",
      "Data columns (total 8 columns):\n",
      " #   Column            Non-Null Count  Dtype         \n",
      "---  ------            --------------  -----         \n",
      " 0   Transaction ID    10000 non-null  object        \n",
      " 1   Item              10000 non-null  object        \n",
      " 2   Quantity          9521 non-null   float64       \n",
      " 3   Price Per Unit    9962 non-null   float64       \n",
      " 4   Total Spent       9498 non-null   float64       \n",
      " 5   Payment Method    6822 non-null   object        \n",
      " 6   Location          6039 non-null   object        \n",
      " 7   Transaction Date  9540 non-null   datetime64[ns]\n",
      "dtypes: datetime64[ns](1), float64(3), object(4)\n",
      "memory usage: 625.1+ KB\n"
     ]
    }
   ],
   "source": [
    "sales_data.info()"
   ]
  },
  {
   "cell_type": "markdown",
   "id": "d4d8750b",
   "metadata": {},
   "source": [
    "## Fix the \"Quantity\", \"Total Spent\", \"Price Per Unit\" Columns"
   ]
  },
  {
   "cell_type": "code",
   "execution_count": 16,
   "id": "afd2cd52",
   "metadata": {},
   "outputs": [],
   "source": [
    "sales_data[\"Quantity\"] = sales_data[\"Quantity\"].fillna(sales_data[\"Total Spent\"] / sales_data[\"Price Per Unit\"])\n",
    "sales_data[\"Total Spent\"] = sales_data[\"Total Spent\"].fillna(sales_data[\"Quantity\"] * sales_data[\"Price Per Unit\"])"
   ]
  },
  {
   "cell_type": "code",
   "execution_count": 17,
   "id": "57d46586",
   "metadata": {},
   "outputs": [
    {
     "name": "stdout",
     "output_type": "stream",
     "text": [
      "<class 'pandas.core.frame.DataFrame'>\n",
      "RangeIndex: 10000 entries, 0 to 9999\n",
      "Data columns (total 8 columns):\n",
      " #   Column            Non-Null Count  Dtype         \n",
      "---  ------            --------------  -----         \n",
      " 0   Transaction ID    10000 non-null  object        \n",
      " 1   Item              10000 non-null  object        \n",
      " 2   Quantity          9962 non-null   float64       \n",
      " 3   Price Per Unit    9962 non-null   float64       \n",
      " 4   Total Spent       9960 non-null   float64       \n",
      " 5   Payment Method    6822 non-null   object        \n",
      " 6   Location          6039 non-null   object        \n",
      " 7   Transaction Date  9540 non-null   datetime64[ns]\n",
      "dtypes: datetime64[ns](1), float64(3), object(4)\n",
      "memory usage: 625.1+ KB\n"
     ]
    }
   ],
   "source": [
    "sales_data.info()"
   ]
  },
  {
   "cell_type": "code",
   "execution_count": 18,
   "id": "d83d16a9",
   "metadata": {
    "scrolled": true
   },
   "outputs": [],
   "source": [
    "sales_data[\"Quantity\"] = sales_data[\"Quantity\"].fillna(sales_data[\"Quantity\"].median())\n",
    "sales_data[\"Price Per Unit\"] = sales_data[\"Price Per Unit\"].fillna(sales_data[\"Price Per Unit\"].median())\n",
    "sales_data[\"Total Spent\"] = sales_data[\"Total Spent\"].fillna(sales_data[\"Total Spent\"].mean().round())"
   ]
  },
  {
   "cell_type": "code",
   "execution_count": 19,
   "id": "ce797a05",
   "metadata": {},
   "outputs": [
    {
     "name": "stdout",
     "output_type": "stream",
     "text": [
      "<class 'pandas.core.frame.DataFrame'>\n",
      "RangeIndex: 10000 entries, 0 to 9999\n",
      "Data columns (total 8 columns):\n",
      " #   Column            Non-Null Count  Dtype         \n",
      "---  ------            --------------  -----         \n",
      " 0   Transaction ID    10000 non-null  object        \n",
      " 1   Item              10000 non-null  object        \n",
      " 2   Quantity          10000 non-null  float64       \n",
      " 3   Price Per Unit    10000 non-null  float64       \n",
      " 4   Total Spent       10000 non-null  float64       \n",
      " 5   Payment Method    6822 non-null   object        \n",
      " 6   Location          6039 non-null   object        \n",
      " 7   Transaction Date  9540 non-null   datetime64[ns]\n",
      "dtypes: datetime64[ns](1), float64(3), object(4)\n",
      "memory usage: 625.1+ KB\n"
     ]
    }
   ],
   "source": [
    "sales_data.info()"
   ]
  },
  {
   "cell_type": "markdown",
   "id": "c1e467dc",
   "metadata": {},
   "source": [
    "## Fix the \"Payment Method\" and \"Location\" Columns"
   ]
  },
  {
   "cell_type": "code",
   "execution_count": 20,
   "id": "ee5fa191",
   "metadata": {},
   "outputs": [],
   "source": [
    "for col in [\"Payment Method\", \"Location\"] :\n",
    "    sales_data[col] = sales_data[col].fillna(sales_data[col].mode()[0])"
   ]
  },
  {
   "cell_type": "code",
   "execution_count": 21,
   "id": "1a3c2d4a",
   "metadata": {
    "scrolled": true
   },
   "outputs": [
    {
     "name": "stdout",
     "output_type": "stream",
     "text": [
      "<class 'pandas.core.frame.DataFrame'>\n",
      "RangeIndex: 10000 entries, 0 to 9999\n",
      "Data columns (total 8 columns):\n",
      " #   Column            Non-Null Count  Dtype         \n",
      "---  ------            --------------  -----         \n",
      " 0   Transaction ID    10000 non-null  object        \n",
      " 1   Item              10000 non-null  object        \n",
      " 2   Quantity          10000 non-null  float64       \n",
      " 3   Price Per Unit    10000 non-null  float64       \n",
      " 4   Total Spent       10000 non-null  float64       \n",
      " 5   Payment Method    10000 non-null  object        \n",
      " 6   Location          10000 non-null  object        \n",
      " 7   Transaction Date  9540 non-null   datetime64[ns]\n",
      "dtypes: datetime64[ns](1), float64(3), object(4)\n",
      "memory usage: 625.1+ KB\n"
     ]
    }
   ],
   "source": [
    "sales_data.info()"
   ]
  },
  {
   "cell_type": "markdown",
   "id": "2689da38",
   "metadata": {},
   "source": [
    "## Fix the \"Transaction Date\" Column"
   ]
  },
  {
   "cell_type": "code",
   "execution_count": 22,
   "id": "b0035830",
   "metadata": {},
   "outputs": [
    {
     "name": "stderr",
     "output_type": "stream",
     "text": [
      "C:\\Users\\Dita Dervinta\\AppData\\Local\\Temp\\ipykernel_17504\\325002054.py:1: FutureWarning: Series.fillna with 'method' is deprecated and will raise in a future version. Use obj.ffill() or obj.bfill() instead.\n",
      "  sales_data[\"Transaction Date\"] = sales_data[\"Transaction Date\"].fillna(method='ffill')\n"
     ]
    }
   ],
   "source": [
    "sales_data[\"Transaction Date\"] = sales_data[\"Transaction Date\"].fillna(method='ffill')"
   ]
  },
  {
   "cell_type": "code",
   "execution_count": 23,
   "id": "8c73a0f7",
   "metadata": {
    "scrolled": true
   },
   "outputs": [
    {
     "name": "stdout",
     "output_type": "stream",
     "text": [
      "<class 'pandas.core.frame.DataFrame'>\n",
      "RangeIndex: 10000 entries, 0 to 9999\n",
      "Data columns (total 8 columns):\n",
      " #   Column            Non-Null Count  Dtype         \n",
      "---  ------            --------------  -----         \n",
      " 0   Transaction ID    10000 non-null  object        \n",
      " 1   Item              10000 non-null  object        \n",
      " 2   Quantity          10000 non-null  float64       \n",
      " 3   Price Per Unit    10000 non-null  float64       \n",
      " 4   Total Spent       10000 non-null  float64       \n",
      " 5   Payment Method    10000 non-null  object        \n",
      " 6   Location          10000 non-null  object        \n",
      " 7   Transaction Date  10000 non-null  datetime64[ns]\n",
      "dtypes: datetime64[ns](1), float64(3), object(4)\n",
      "memory usage: 625.1+ KB\n"
     ]
    }
   ],
   "source": [
    "sales_data.info()"
   ]
  },
  {
   "cell_type": "markdown",
   "id": "b3a196cc",
   "metadata": {},
   "source": [
    "## Feature Engineering\n",
    "\n",
    "Create new columns, such as Day of the Week or Transaction Month, for further analysis."
   ]
  },
  {
   "cell_type": "code",
   "execution_count": 24,
   "id": "aa1d280f",
   "metadata": {},
   "outputs": [],
   "source": [
    "sales_data[\"Day of the Week\"] = sales_data[\"Transaction Date\"].dt.day_name()\n",
    "sales_data[\"Transaction Month\"] = sales_data[\"Transaction Date\"].dt.month_name()\n",
    "sales_data[\"Transaction Year\"] = sales_data[\"Transaction Date\"].dt.year"
   ]
  },
  {
   "cell_type": "code",
   "execution_count": 25,
   "id": "6a9f7447",
   "metadata": {},
   "outputs": [],
   "source": [
    "new_df = sales_data.sort_values(\"Transaction Date\", ascending=True).reset_index(drop = True)"
   ]
  },
  {
   "cell_type": "code",
   "execution_count": 26,
   "id": "7525a6af",
   "metadata": {},
   "outputs": [],
   "source": [
    "pd.reset_option(\"display.max_rows\", None)"
   ]
  },
  {
   "cell_type": "markdown",
   "id": "2dd2ef7b",
   "metadata": {},
   "source": [
    "# Visualization"
   ]
  },
  {
   "cell_type": "code",
   "execution_count": 27,
   "id": "b00f26ae",
   "metadata": {},
   "outputs": [
    {
     "data": {
      "text/html": [
       "<div>\n",
       "<style scoped>\n",
       "    .dataframe tbody tr th:only-of-type {\n",
       "        vertical-align: middle;\n",
       "    }\n",
       "\n",
       "    .dataframe tbody tr th {\n",
       "        vertical-align: top;\n",
       "    }\n",
       "\n",
       "    .dataframe thead th {\n",
       "        text-align: right;\n",
       "    }\n",
       "</style>\n",
       "<table border=\"1\" class=\"dataframe\">\n",
       "  <thead>\n",
       "    <tr style=\"text-align: right;\">\n",
       "      <th></th>\n",
       "      <th>Transaction ID</th>\n",
       "      <th>Item</th>\n",
       "      <th>Quantity</th>\n",
       "      <th>Price Per Unit</th>\n",
       "      <th>Total Spent</th>\n",
       "      <th>Payment Method</th>\n",
       "      <th>Location</th>\n",
       "      <th>Transaction Date</th>\n",
       "      <th>Day of the Week</th>\n",
       "      <th>Transaction Month</th>\n",
       "      <th>Transaction Year</th>\n",
       "    </tr>\n",
       "  </thead>\n",
       "  <tbody>\n",
       "    <tr>\n",
       "      <th>0</th>\n",
       "      <td>TXN_8308672</td>\n",
       "      <td>Salad</td>\n",
       "      <td>2.0</td>\n",
       "      <td>5.0</td>\n",
       "      <td>10.0</td>\n",
       "      <td>Digital Wallet</td>\n",
       "      <td>Takeaway</td>\n",
       "      <td>2023-01-01</td>\n",
       "      <td>Sunday</td>\n",
       "      <td>January</td>\n",
       "      <td>2023</td>\n",
       "    </tr>\n",
       "    <tr>\n",
       "      <th>1</th>\n",
       "      <td>TXN_8249251</td>\n",
       "      <td>Cake</td>\n",
       "      <td>3.0</td>\n",
       "      <td>3.0</td>\n",
       "      <td>9.0</td>\n",
       "      <td>Digital Wallet</td>\n",
       "      <td>In-store</td>\n",
       "      <td>2023-01-01</td>\n",
       "      <td>Sunday</td>\n",
       "      <td>January</td>\n",
       "      <td>2023</td>\n",
       "    </tr>\n",
       "    <tr>\n",
       "      <th>2</th>\n",
       "      <td>TXN_1581562</td>\n",
       "      <td>Coffee</td>\n",
       "      <td>2.0</td>\n",
       "      <td>2.0</td>\n",
       "      <td>4.0</td>\n",
       "      <td>Cash</td>\n",
       "      <td>In-store</td>\n",
       "      <td>2023-01-01</td>\n",
       "      <td>Sunday</td>\n",
       "      <td>January</td>\n",
       "      <td>2023</td>\n",
       "    </tr>\n",
       "    <tr>\n",
       "      <th>3</th>\n",
       "      <td>TXN_4292280</td>\n",
       "      <td>Cake</td>\n",
       "      <td>4.0</td>\n",
       "      <td>3.0</td>\n",
       "      <td>12.0</td>\n",
       "      <td>Cash</td>\n",
       "      <td>Takeaway</td>\n",
       "      <td>2023-01-01</td>\n",
       "      <td>Sunday</td>\n",
       "      <td>January</td>\n",
       "      <td>2023</td>\n",
       "    </tr>\n",
       "    <tr>\n",
       "      <th>4</th>\n",
       "      <td>TXN_7367474</td>\n",
       "      <td>Juice</td>\n",
       "      <td>5.0</td>\n",
       "      <td>3.0</td>\n",
       "      <td>15.0</td>\n",
       "      <td>Digital Wallet</td>\n",
       "      <td>Takeaway</td>\n",
       "      <td>2023-01-01</td>\n",
       "      <td>Sunday</td>\n",
       "      <td>January</td>\n",
       "      <td>2023</td>\n",
       "    </tr>\n",
       "    <tr>\n",
       "      <th>...</th>\n",
       "      <td>...</td>\n",
       "      <td>...</td>\n",
       "      <td>...</td>\n",
       "      <td>...</td>\n",
       "      <td>...</td>\n",
       "      <td>...</td>\n",
       "      <td>...</td>\n",
       "      <td>...</td>\n",
       "      <td>...</td>\n",
       "      <td>...</td>\n",
       "      <td>...</td>\n",
       "    </tr>\n",
       "    <tr>\n",
       "      <th>9995</th>\n",
       "      <td>TXN_1405498</td>\n",
       "      <td>Juice</td>\n",
       "      <td>2.0</td>\n",
       "      <td>3.0</td>\n",
       "      <td>6.0</td>\n",
       "      <td>Digital Wallet</td>\n",
       "      <td>Takeaway</td>\n",
       "      <td>2023-12-31</td>\n",
       "      <td>Sunday</td>\n",
       "      <td>December</td>\n",
       "      <td>2023</td>\n",
       "    </tr>\n",
       "    <tr>\n",
       "      <th>9996</th>\n",
       "      <td>TXN_4528664</td>\n",
       "      <td>Salad</td>\n",
       "      <td>3.0</td>\n",
       "      <td>5.0</td>\n",
       "      <td>15.0</td>\n",
       "      <td>Cash</td>\n",
       "      <td>In-store</td>\n",
       "      <td>2023-12-31</td>\n",
       "      <td>Sunday</td>\n",
       "      <td>December</td>\n",
       "      <td>2023</td>\n",
       "    </tr>\n",
       "    <tr>\n",
       "      <th>9997</th>\n",
       "      <td>TXN_2975443</td>\n",
       "      <td>Salad</td>\n",
       "      <td>5.0</td>\n",
       "      <td>5.0</td>\n",
       "      <td>25.0</td>\n",
       "      <td>Digital Wallet</td>\n",
       "      <td>Takeaway</td>\n",
       "      <td>2023-12-31</td>\n",
       "      <td>Sunday</td>\n",
       "      <td>December</td>\n",
       "      <td>2023</td>\n",
       "    </tr>\n",
       "    <tr>\n",
       "      <th>9998</th>\n",
       "      <td>TXN_7108012</td>\n",
       "      <td>Tea</td>\n",
       "      <td>1.0</td>\n",
       "      <td>1.5</td>\n",
       "      <td>1.5</td>\n",
       "      <td>Digital Wallet</td>\n",
       "      <td>Takeaway</td>\n",
       "      <td>2023-12-31</td>\n",
       "      <td>Sunday</td>\n",
       "      <td>December</td>\n",
       "      <td>2023</td>\n",
       "    </tr>\n",
       "    <tr>\n",
       "      <th>9999</th>\n",
       "      <td>TXN_1654784</td>\n",
       "      <td>Cookie</td>\n",
       "      <td>5.0</td>\n",
       "      <td>1.0</td>\n",
       "      <td>5.0</td>\n",
       "      <td>Digital Wallet</td>\n",
       "      <td>In-store</td>\n",
       "      <td>2023-12-31</td>\n",
       "      <td>Sunday</td>\n",
       "      <td>December</td>\n",
       "      <td>2023</td>\n",
       "    </tr>\n",
       "  </tbody>\n",
       "</table>\n",
       "<p>10000 rows × 11 columns</p>\n",
       "</div>"
      ],
      "text/plain": [
       "     Transaction ID    Item  Quantity  Price Per Unit  Total Spent  \\\n",
       "0       TXN_8308672   Salad       2.0             5.0         10.0   \n",
       "1       TXN_8249251    Cake       3.0             3.0          9.0   \n",
       "2       TXN_1581562  Coffee       2.0             2.0          4.0   \n",
       "3       TXN_4292280    Cake       4.0             3.0         12.0   \n",
       "4       TXN_7367474   Juice       5.0             3.0         15.0   \n",
       "...             ...     ...       ...             ...          ...   \n",
       "9995    TXN_1405498   Juice       2.0             3.0          6.0   \n",
       "9996    TXN_4528664   Salad       3.0             5.0         15.0   \n",
       "9997    TXN_2975443   Salad       5.0             5.0         25.0   \n",
       "9998    TXN_7108012     Tea       1.0             1.5          1.5   \n",
       "9999    TXN_1654784  Cookie       5.0             1.0          5.0   \n",
       "\n",
       "      Payment Method  Location Transaction Date Day of the Week  \\\n",
       "0     Digital Wallet  Takeaway       2023-01-01          Sunday   \n",
       "1     Digital Wallet  In-store       2023-01-01          Sunday   \n",
       "2               Cash  In-store       2023-01-01          Sunday   \n",
       "3               Cash  Takeaway       2023-01-01          Sunday   \n",
       "4     Digital Wallet  Takeaway       2023-01-01          Sunday   \n",
       "...              ...       ...              ...             ...   \n",
       "9995  Digital Wallet  Takeaway       2023-12-31          Sunday   \n",
       "9996            Cash  In-store       2023-12-31          Sunday   \n",
       "9997  Digital Wallet  Takeaway       2023-12-31          Sunday   \n",
       "9998  Digital Wallet  Takeaway       2023-12-31          Sunday   \n",
       "9999  Digital Wallet  In-store       2023-12-31          Sunday   \n",
       "\n",
       "     Transaction Month  Transaction Year  \n",
       "0              January              2023  \n",
       "1              January              2023  \n",
       "2              January              2023  \n",
       "3              January              2023  \n",
       "4              January              2023  \n",
       "...                ...               ...  \n",
       "9995          December              2023  \n",
       "9996          December              2023  \n",
       "9997          December              2023  \n",
       "9998          December              2023  \n",
       "9999          December              2023  \n",
       "\n",
       "[10000 rows x 11 columns]"
      ]
     },
     "execution_count": 27,
     "metadata": {},
     "output_type": "execute_result"
    }
   ],
   "source": [
    "new_df"
   ]
  },
  {
   "cell_type": "code",
   "execution_count": 28,
   "id": "3b3d639d",
   "metadata": {},
   "outputs": [
    {
     "name": "stdout",
     "output_type": "stream",
     "text": [
      "<class 'pandas.core.frame.DataFrame'>\n",
      "RangeIndex: 10000 entries, 0 to 9999\n",
      "Data columns (total 11 columns):\n",
      " #   Column             Non-Null Count  Dtype         \n",
      "---  ------             --------------  -----         \n",
      " 0   Transaction ID     10000 non-null  object        \n",
      " 1   Item               10000 non-null  object        \n",
      " 2   Quantity           10000 non-null  float64       \n",
      " 3   Price Per Unit     10000 non-null  float64       \n",
      " 4   Total Spent        10000 non-null  float64       \n",
      " 5   Payment Method     10000 non-null  object        \n",
      " 6   Location           10000 non-null  object        \n",
      " 7   Transaction Date   10000 non-null  datetime64[ns]\n",
      " 8   Day of the Week    10000 non-null  object        \n",
      " 9   Transaction Month  10000 non-null  object        \n",
      " 10  Transaction Year   10000 non-null  int32         \n",
      "dtypes: datetime64[ns](1), float64(3), int32(1), object(6)\n",
      "memory usage: 820.4+ KB\n"
     ]
    }
   ],
   "source": [
    "new_df.info()"
   ]
  },
  {
   "cell_type": "markdown",
   "id": "c9e8f274",
   "metadata": {},
   "source": [
    "## 1. Overall Sales Trend"
   ]
  },
  {
   "cell_type": "code",
   "execution_count": 29,
   "id": "78189bf5",
   "metadata": {},
   "outputs": [
    {
     "name": "stderr",
     "output_type": "stream",
     "text": [
      "C:\\Users\\Dita Dervinta\\AppData\\Local\\Temp\\ipykernel_17504\\796606535.py:7: FutureWarning: The default of observed=False is deprecated and will be changed to True in a future version of pandas. Pass observed=False to retain current behavior or observed=True to adopt the future default and silence this warning.\n",
      "  quantity_months = new_df.groupby(\"Transaction Month\", as_index=False)[\"Quantity\"].sum()\n"
     ]
    },
    {
     "data": {
      "text/html": [
       "<div>\n",
       "<style scoped>\n",
       "    .dataframe tbody tr th:only-of-type {\n",
       "        vertical-align: middle;\n",
       "    }\n",
       "\n",
       "    .dataframe tbody tr th {\n",
       "        vertical-align: top;\n",
       "    }\n",
       "\n",
       "    .dataframe thead th {\n",
       "        text-align: right;\n",
       "    }\n",
       "</style>\n",
       "<table border=\"1\" class=\"dataframe\">\n",
       "  <thead>\n",
       "    <tr style=\"text-align: right;\">\n",
       "      <th></th>\n",
       "      <th>Transaction Month</th>\n",
       "      <th>Quantity</th>\n",
       "    </tr>\n",
       "  </thead>\n",
       "  <tbody>\n",
       "    <tr>\n",
       "      <th>0</th>\n",
       "      <td>January</td>\n",
       "      <td>2558.0</td>\n",
       "    </tr>\n",
       "    <tr>\n",
       "      <th>1</th>\n",
       "      <td>February</td>\n",
       "      <td>2359.0</td>\n",
       "    </tr>\n",
       "    <tr>\n",
       "      <th>2</th>\n",
       "      <td>March</td>\n",
       "      <td>2611.0</td>\n",
       "    </tr>\n",
       "    <tr>\n",
       "      <th>3</th>\n",
       "      <td>April</td>\n",
       "      <td>2505.0</td>\n",
       "    </tr>\n",
       "    <tr>\n",
       "      <th>4</th>\n",
       "      <td>May</td>\n",
       "      <td>2449.0</td>\n",
       "    </tr>\n",
       "    <tr>\n",
       "      <th>5</th>\n",
       "      <td>June</td>\n",
       "      <td>2578.0</td>\n",
       "    </tr>\n",
       "    <tr>\n",
       "      <th>6</th>\n",
       "      <td>July</td>\n",
       "      <td>2463.0</td>\n",
       "    </tr>\n",
       "    <tr>\n",
       "      <th>7</th>\n",
       "      <td>August</td>\n",
       "      <td>2557.0</td>\n",
       "    </tr>\n",
       "    <tr>\n",
       "      <th>8</th>\n",
       "      <td>September</td>\n",
       "      <td>2449.0</td>\n",
       "    </tr>\n",
       "    <tr>\n",
       "      <th>9</th>\n",
       "      <td>October</td>\n",
       "      <td>2691.0</td>\n",
       "    </tr>\n",
       "    <tr>\n",
       "      <th>10</th>\n",
       "      <td>November</td>\n",
       "      <td>2453.0</td>\n",
       "    </tr>\n",
       "    <tr>\n",
       "      <th>11</th>\n",
       "      <td>December</td>\n",
       "      <td>2582.0</td>\n",
       "    </tr>\n",
       "  </tbody>\n",
       "</table>\n",
       "</div>"
      ],
      "text/plain": [
       "   Transaction Month  Quantity\n",
       "0            January    2558.0\n",
       "1           February    2359.0\n",
       "2              March    2611.0\n",
       "3              April    2505.0\n",
       "4                May    2449.0\n",
       "5               June    2578.0\n",
       "6               July    2463.0\n",
       "7             August    2557.0\n",
       "8          September    2449.0\n",
       "9            October    2691.0\n",
       "10          November    2453.0\n",
       "11          December    2582.0"
      ]
     },
     "execution_count": 29,
     "metadata": {},
     "output_type": "execute_result"
    }
   ],
   "source": [
    "month = [\"January\", \"February\", \"March\", \"April\", \"May\", \"June\", \"July\", \"August\", \"September\", \"October\", \"November\", \"December\"]\n",
    "\n",
    "new_df[\"Transaction Month\"] = pd.Categorical (new_df[\"Transaction Month\"],\n",
    "                                              categories = month,\n",
    "                                              ordered = True)\n",
    "\n",
    "quantity_months = new_df.groupby(\"Transaction Month\", as_index=False)[\"Quantity\"].sum()\n",
    "quantity_months"
   ]
  },
  {
   "cell_type": "code",
   "execution_count": 30,
   "id": "9a00a89e",
   "metadata": {},
   "outputs": [
    {
     "data": {
      "image/png": "[encoded data removed]",
      "text/plain": [
       "<Figure size 640x480 with 1 Axes>"
      ]
     },
     "metadata": {},
     "output_type": "display_data"
    }
   ],
   "source": [
    "sns.barplot(quantity_months, x=\"Transaction Month\", y=\"Quantity\")\n",
    "plt.xticks(rotation=45)\n",
    "plt.ylim(2000)\n",
    "plt.show()"
   ]
  },
  {
   "cell_type": "code",
   "execution_count": 31,
   "id": "4be092bd",
   "metadata": {},
   "outputs": [],
   "source": [
    "tren = new_df.groupby(\"Transaction Date\", as_index=True)[\"Total Spent\"].sum()"
   ]
  },
  {
   "cell_type": "code",
   "execution_count": 32,
   "id": "139247f3",
   "metadata": {},
   "outputs": [
    {
     "data": {
      "image/png": "[encoded data removed]",
      "text/plain": [
       "<Figure size 1200x600 with 1 Axes>"
      ]
     },
     "metadata": {},
     "output_type": "display_data"
    }
   ],
   "source": [
    "# Cara lain menggunakan matplotlib\n",
    "import matplotlib.dates as mdates\n",
    "\n",
    "plt.figure(figsize=(12,6))\n",
    "tren.plot(kind=\"line\")\n",
    "plt.gca().xaxis.set_major_formatter(mdates.DateFormatter('%m-%y'))\n",
    "plt.show()"
   ]
  },
  {
   "cell_type": "markdown",
   "id": "cb1087f8",
   "metadata": {},
   "source": [
    "## 2. Sales Trend on Weekend Days"
   ]
  },
  {
   "cell_type": "code",
   "execution_count": 33,
   "id": "e5f57788",
   "metadata": {},
   "outputs": [],
   "source": [
    "weekend = new_df[(new_df[\"Day of the Week\"]==\"Saturday\") | (new_df[\"Day of the Week\"]==\"Sunday\")]\n",
    "weekend = weekend.groupby(\"Day of the Week\", as_index=True)[\"Total Spent\"].sum()"
   ]
  },
  {
   "cell_type": "code",
   "execution_count": 34,
   "id": "411e276d",
   "metadata": {},
   "outputs": [
    {
     "data": {
      "text/plain": [
       "Day of the Week\n",
       "Saturday    12805.5\n",
       "Sunday      12814.0\n",
       "Name: Total Spent, dtype: float64"
      ]
     },
     "execution_count": 34,
     "metadata": {},
     "output_type": "execute_result"
    }
   ],
   "source": [
    "weekend"
   ]
  },
  {
   "cell_type": "code",
   "execution_count": 35,
   "id": "c7c57d16",
   "metadata": {},
   "outputs": [
    {
     "data": {
      "image/png": "[encoded data removed]",
      "text/plain": [
       "<Figure size 640x480 with 1 Axes>"
      ]
     },
     "metadata": {},
     "output_type": "display_data"
    }
   ],
   "source": [
    "sns.barplot(weekend)\n",
    "plt.ylim(12800,12850)\n",
    "plt.show()"
   ]
  },
  {
   "cell_type": "code",
   "execution_count": 36,
   "id": "4fbe840e",
   "metadata": {},
   "outputs": [
    {
     "name": "stdout",
     "output_type": "stream",
     "text": [
      "Total Spent\n",
      "12805.5    50.0%\n",
      "12814.0    50.0%\n",
      "Name: proportion, dtype: object\n"
     ]
    },
    {
     "data": {
      "image/png": "[encoded data removed]",
      "text/plain": [
       "<Figure size 640x480 with 1 Axes>"
      ]
     },
     "metadata": {},
     "output_type": "display_data"
    }
   ],
   "source": [
    "print((weekend.value_counts(normalize=True)*100).round(2).astype(str)+'%')\n",
    "weekend.plot(kind='pie', autopct='%0.0f%%', startangle=90, colors=plt.cm.Pastel1.colors)\n",
    "plt.ylabel('')\n",
    "plt.show()"
   ]
  },
  {
   "cell_type": "markdown",
   "id": "44e495c4",
   "metadata": {},
   "source": [
    "## 3. Top Performing Products"
   ]
  },
  {
   "cell_type": "code",
   "execution_count": 37,
   "id": "1b2e7715",
   "metadata": {},
   "outputs": [],
   "source": [
    "products = new_df.groupby(\"Item\").agg(\n",
    "item_number = (\"Item\", \"count\"),\n",
    "quantity_sum = (\"Quantity\", \"sum\"),\n",
    "quantity_price = (\"Total Spent\", \"sum\"))\n",
    "\n",
    "products = products.reset_index()"
   ]
  },
  {
   "cell_type": "code",
   "execution_count": 38,
   "id": "60d65cf2",
   "metadata": {},
   "outputs": [
    {
     "data": {
      "text/html": [
       "<div>\n",
       "<style scoped>\n",
       "    .dataframe tbody tr th:only-of-type {\n",
       "        vertical-align: middle;\n",
       "    }\n",
       "\n",
       "    .dataframe tbody tr th {\n",
       "        vertical-align: top;\n",
       "    }\n",
       "\n",
       "    .dataframe thead th {\n",
       "        text-align: right;\n",
       "    }\n",
       "</style>\n",
       "<table border=\"1\" class=\"dataframe\">\n",
       "  <thead>\n",
       "    <tr style=\"text-align: right;\">\n",
       "      <th></th>\n",
       "      <th>Item</th>\n",
       "      <th>item_number</th>\n",
       "      <th>quantity_sum</th>\n",
       "      <th>quantity_price</th>\n",
       "    </tr>\n",
       "  </thead>\n",
       "  <tbody>\n",
       "    <tr>\n",
       "      <th>0</th>\n",
       "      <td>Cake</td>\n",
       "      <td>1139</td>\n",
       "      <td>3474.0</td>\n",
       "      <td>10413.0</td>\n",
       "    </tr>\n",
       "    <tr>\n",
       "      <th>1</th>\n",
       "      <td>Cake or Juice</td>\n",
       "      <td>247</td>\n",
       "      <td>757.0</td>\n",
       "      <td>2271.0</td>\n",
       "    </tr>\n",
       "    <tr>\n",
       "      <th>2</th>\n",
       "      <td>Coffee</td>\n",
       "      <td>1297</td>\n",
       "      <td>3939.0</td>\n",
       "      <td>7933.0</td>\n",
       "    </tr>\n",
       "    <tr>\n",
       "      <th>3</th>\n",
       "      <td>Cookie</td>\n",
       "      <td>1213</td>\n",
       "      <td>3609.0</td>\n",
       "      <td>3634.0</td>\n",
       "    </tr>\n",
       "    <tr>\n",
       "      <th>4</th>\n",
       "      <td>Juice</td>\n",
       "      <td>1171</td>\n",
       "      <td>3514.0</td>\n",
       "      <td>10545.0</td>\n",
       "    </tr>\n",
       "    <tr>\n",
       "      <th>5</th>\n",
       "      <td>Salad</td>\n",
       "      <td>1272</td>\n",
       "      <td>3827.0</td>\n",
       "      <td>19097.0</td>\n",
       "    </tr>\n",
       "    <tr>\n",
       "      <th>6</th>\n",
       "      <td>Sandwich</td>\n",
       "      <td>1131</td>\n",
       "      <td>3439.0</td>\n",
       "      <td>13736.0</td>\n",
       "    </tr>\n",
       "    <tr>\n",
       "      <th>7</th>\n",
       "      <td>Smoothie</td>\n",
       "      <td>1096</td>\n",
       "      <td>3342.0</td>\n",
       "      <td>13365.0</td>\n",
       "    </tr>\n",
       "    <tr>\n",
       "      <th>8</th>\n",
       "      <td>Smoothie or Sandwich</td>\n",
       "      <td>227</td>\n",
       "      <td>704.0</td>\n",
       "      <td>2816.0</td>\n",
       "    </tr>\n",
       "    <tr>\n",
       "      <th>9</th>\n",
       "      <td>Tea</td>\n",
       "      <td>1207</td>\n",
       "      <td>3650.0</td>\n",
       "      <td>5502.0</td>\n",
       "    </tr>\n",
       "  </tbody>\n",
       "</table>\n",
       "</div>"
      ],
      "text/plain": [
       "                   Item  item_number  quantity_sum  quantity_price\n",
       "0                  Cake         1139        3474.0         10413.0\n",
       "1         Cake or Juice          247         757.0          2271.0\n",
       "2                Coffee         1297        3939.0          7933.0\n",
       "3                Cookie         1213        3609.0          3634.0\n",
       "4                 Juice         1171        3514.0         10545.0\n",
       "5                 Salad         1272        3827.0         19097.0\n",
       "6              Sandwich         1131        3439.0         13736.0\n",
       "7              Smoothie         1096        3342.0         13365.0\n",
       "8  Smoothie or Sandwich          227         704.0          2816.0\n",
       "9                   Tea         1207        3650.0          5502.0"
      ]
     },
     "execution_count": 38,
     "metadata": {},
     "output_type": "execute_result"
    }
   ],
   "source": [
    "products"
   ]
  },
  {
   "cell_type": "code",
   "execution_count": 39,
   "id": "42ea9fbf",
   "metadata": {},
   "outputs": [],
   "source": [
    "top10_item = products.nlargest(10,\"quantity_sum\")\n",
    "top10_price = products.nlargest(10,\"quantity_price\")"
   ]
  },
  {
   "cell_type": "code",
   "execution_count": 40,
   "id": "e5d7af65",
   "metadata": {},
   "outputs": [
    {
     "data": {
      "image/png": "[encoded data removed]",
      "text/plain": [
       "<Figure size 1200x800 with 2 Axes>"
      ]
     },
     "metadata": {},
     "output_type": "display_data"
    }
   ],
   "source": [
    "plt.figure(figsize=(12,8))\n",
    "\n",
    "plt.subplot(1, 2, 1)\n",
    "sns.barplot(top10_item, x=\"item_number\", y=\"Item\", color='skyblue')\n",
    "plt.title(\"Quantity of Item Purchased\")\n",
    "\n",
    "plt.subplot(1, 2, 2)\n",
    "sns.barplot(top10_price, x=\"quantity_price\", y=\"Item\", color='pink')\n",
    "plt.title(\"Price of Each Item Purchased\")\n",
    "\n",
    "plt.tight_layout()  # Agar layout tidak tumpang tindih\n",
    "plt.show()"
   ]
  },
  {
   "cell_type": "markdown",
   "id": "852f8fc3",
   "metadata": {},
   "source": [
    "## 4. Payment Method Analysis "
   ]
  },
  {
   "cell_type": "code",
   "execution_count": 41,
   "id": "e3de9001",
   "metadata": {},
   "outputs": [
    {
     "data": {
      "image/png": "[encoded data removed]",
      "text/plain": [
       "<Figure size 640x480 with 1 Axes>"
      ]
     },
     "metadata": {},
     "output_type": "display_data"
    }
   ],
   "source": [
    "payment = (new_df[\"Payment Method\"].value_counts(normalize=True)*100)\n",
    "payment.plot(kind='pie', autopct='%2.2f%%', startangle=90, colors=plt.cm.Pastel2.colors)\n",
    "plt.ylabel('')\n",
    "plt.show()"
   ]
  },
  {
   "cell_type": "markdown",
   "id": "af2d67a8",
   "metadata": {},
   "source": [
    "## 5. Item Recommendation\n",
    "\n",
    "Rekomendasi item yang sering dibeli bersamaan (Market Basket Analysis)\n",
    "dengan **Apriori Algorithm**"
   ]
  },
  {
   "cell_type": "code",
   "execution_count": 42,
   "id": "56f85ec3",
   "metadata": {},
   "outputs": [
    {
     "data": {
      "text/html": [
       "<div>\n",
       "<style scoped>\n",
       "    .dataframe tbody tr th:only-of-type {\n",
       "        vertical-align: middle;\n",
       "    }\n",
       "\n",
       "    .dataframe tbody tr th {\n",
       "        vertical-align: top;\n",
       "    }\n",
       "\n",
       "    .dataframe thead th {\n",
       "        text-align: right;\n",
       "    }\n",
       "</style>\n",
       "<table border=\"1\" class=\"dataframe\">\n",
       "  <thead>\n",
       "    <tr style=\"text-align: right;\">\n",
       "      <th></th>\n",
       "      <th>Transaction ID</th>\n",
       "      <th>Item</th>\n",
       "      <th>Quantity</th>\n",
       "      <th>Price Per Unit</th>\n",
       "      <th>Total Spent</th>\n",
       "      <th>Payment Method</th>\n",
       "      <th>Location</th>\n",
       "      <th>Transaction Date</th>\n",
       "      <th>Day of the Week</th>\n",
       "      <th>Transaction Month</th>\n",
       "      <th>Transaction Year</th>\n",
       "    </tr>\n",
       "  </thead>\n",
       "  <tbody>\n",
       "    <tr>\n",
       "      <th>0</th>\n",
       "      <td>TXN_8308672</td>\n",
       "      <td>Salad</td>\n",
       "      <td>2.0</td>\n",
       "      <td>5.0</td>\n",
       "      <td>10.0</td>\n",
       "      <td>Digital Wallet</td>\n",
       "      <td>Takeaway</td>\n",
       "      <td>2023-01-01</td>\n",
       "      <td>Sunday</td>\n",
       "      <td>January</td>\n",
       "      <td>2023</td>\n",
       "    </tr>\n",
       "    <tr>\n",
       "      <th>1</th>\n",
       "      <td>TXN_8249251</td>\n",
       "      <td>Cake</td>\n",
       "      <td>3.0</td>\n",
       "      <td>3.0</td>\n",
       "      <td>9.0</td>\n",
       "      <td>Digital Wallet</td>\n",
       "      <td>In-store</td>\n",
       "      <td>2023-01-01</td>\n",
       "      <td>Sunday</td>\n",
       "      <td>January</td>\n",
       "      <td>2023</td>\n",
       "    </tr>\n",
       "    <tr>\n",
       "      <th>2</th>\n",
       "      <td>TXN_1581562</td>\n",
       "      <td>Coffee</td>\n",
       "      <td>2.0</td>\n",
       "      <td>2.0</td>\n",
       "      <td>4.0</td>\n",
       "      <td>Cash</td>\n",
       "      <td>In-store</td>\n",
       "      <td>2023-01-01</td>\n",
       "      <td>Sunday</td>\n",
       "      <td>January</td>\n",
       "      <td>2023</td>\n",
       "    </tr>\n",
       "    <tr>\n",
       "      <th>3</th>\n",
       "      <td>TXN_4292280</td>\n",
       "      <td>Cake</td>\n",
       "      <td>4.0</td>\n",
       "      <td>3.0</td>\n",
       "      <td>12.0</td>\n",
       "      <td>Cash</td>\n",
       "      <td>Takeaway</td>\n",
       "      <td>2023-01-01</td>\n",
       "      <td>Sunday</td>\n",
       "      <td>January</td>\n",
       "      <td>2023</td>\n",
       "    </tr>\n",
       "    <tr>\n",
       "      <th>4</th>\n",
       "      <td>TXN_7367474</td>\n",
       "      <td>Juice</td>\n",
       "      <td>5.0</td>\n",
       "      <td>3.0</td>\n",
       "      <td>15.0</td>\n",
       "      <td>Digital Wallet</td>\n",
       "      <td>Takeaway</td>\n",
       "      <td>2023-01-01</td>\n",
       "      <td>Sunday</td>\n",
       "      <td>January</td>\n",
       "      <td>2023</td>\n",
       "    </tr>\n",
       "    <tr>\n",
       "      <th>...</th>\n",
       "      <td>...</td>\n",
       "      <td>...</td>\n",
       "      <td>...</td>\n",
       "      <td>...</td>\n",
       "      <td>...</td>\n",
       "      <td>...</td>\n",
       "      <td>...</td>\n",
       "      <td>...</td>\n",
       "      <td>...</td>\n",
       "      <td>...</td>\n",
       "      <td>...</td>\n",
       "    </tr>\n",
       "    <tr>\n",
       "      <th>9995</th>\n",
       "      <td>TXN_1405498</td>\n",
       "      <td>Juice</td>\n",
       "      <td>2.0</td>\n",
       "      <td>3.0</td>\n",
       "      <td>6.0</td>\n",
       "      <td>Digital Wallet</td>\n",
       "      <td>Takeaway</td>\n",
       "      <td>2023-12-31</td>\n",
       "      <td>Sunday</td>\n",
       "      <td>December</td>\n",
       "      <td>2023</td>\n",
       "    </tr>\n",
       "    <tr>\n",
       "      <th>9996</th>\n",
       "      <td>TXN_4528664</td>\n",
       "      <td>Salad</td>\n",
       "      <td>3.0</td>\n",
       "      <td>5.0</td>\n",
       "      <td>15.0</td>\n",
       "      <td>Cash</td>\n",
       "      <td>In-store</td>\n",
       "      <td>2023-12-31</td>\n",
       "      <td>Sunday</td>\n",
       "      <td>December</td>\n",
       "      <td>2023</td>\n",
       "    </tr>\n",
       "    <tr>\n",
       "      <th>9997</th>\n",
       "      <td>TXN_2975443</td>\n",
       "      <td>Salad</td>\n",
       "      <td>5.0</td>\n",
       "      <td>5.0</td>\n",
       "      <td>25.0</td>\n",
       "      <td>Digital Wallet</td>\n",
       "      <td>Takeaway</td>\n",
       "      <td>2023-12-31</td>\n",
       "      <td>Sunday</td>\n",
       "      <td>December</td>\n",
       "      <td>2023</td>\n",
       "    </tr>\n",
       "    <tr>\n",
       "      <th>9998</th>\n",
       "      <td>TXN_7108012</td>\n",
       "      <td>Tea</td>\n",
       "      <td>1.0</td>\n",
       "      <td>1.5</td>\n",
       "      <td>1.5</td>\n",
       "      <td>Digital Wallet</td>\n",
       "      <td>Takeaway</td>\n",
       "      <td>2023-12-31</td>\n",
       "      <td>Sunday</td>\n",
       "      <td>December</td>\n",
       "      <td>2023</td>\n",
       "    </tr>\n",
       "    <tr>\n",
       "      <th>9999</th>\n",
       "      <td>TXN_1654784</td>\n",
       "      <td>Cookie</td>\n",
       "      <td>5.0</td>\n",
       "      <td>1.0</td>\n",
       "      <td>5.0</td>\n",
       "      <td>Digital Wallet</td>\n",
       "      <td>In-store</td>\n",
       "      <td>2023-12-31</td>\n",
       "      <td>Sunday</td>\n",
       "      <td>December</td>\n",
       "      <td>2023</td>\n",
       "    </tr>\n",
       "  </tbody>\n",
       "</table>\n",
       "<p>10000 rows × 11 columns</p>\n",
       "</div>"
      ],
      "text/plain": [
       "     Transaction ID    Item  Quantity  Price Per Unit  Total Spent  \\\n",
       "0       TXN_8308672   Salad       2.0             5.0         10.0   \n",
       "1       TXN_8249251    Cake       3.0             3.0          9.0   \n",
       "2       TXN_1581562  Coffee       2.0             2.0          4.0   \n",
       "3       TXN_4292280    Cake       4.0             3.0         12.0   \n",
       "4       TXN_7367474   Juice       5.0             3.0         15.0   \n",
       "...             ...     ...       ...             ...          ...   \n",
       "9995    TXN_1405498   Juice       2.0             3.0          6.0   \n",
       "9996    TXN_4528664   Salad       3.0             5.0         15.0   \n",
       "9997    TXN_2975443   Salad       5.0             5.0         25.0   \n",
       "9998    TXN_7108012     Tea       1.0             1.5          1.5   \n",
       "9999    TXN_1654784  Cookie       5.0             1.0          5.0   \n",
       "\n",
       "      Payment Method  Location Transaction Date Day of the Week  \\\n",
       "0     Digital Wallet  Takeaway       2023-01-01          Sunday   \n",
       "1     Digital Wallet  In-store       2023-01-01          Sunday   \n",
       "2               Cash  In-store       2023-01-01          Sunday   \n",
       "3               Cash  Takeaway       2023-01-01          Sunday   \n",
       "4     Digital Wallet  Takeaway       2023-01-01          Sunday   \n",
       "...              ...       ...              ...             ...   \n",
       "9995  Digital Wallet  Takeaway       2023-12-31          Sunday   \n",
       "9996            Cash  In-store       2023-12-31          Sunday   \n",
       "9997  Digital Wallet  Takeaway       2023-12-31          Sunday   \n",
       "9998  Digital Wallet  Takeaway       2023-12-31          Sunday   \n",
       "9999  Digital Wallet  In-store       2023-12-31          Sunday   \n",
       "\n",
       "     Transaction Month  Transaction Year  \n",
       "0              January              2023  \n",
       "1              January              2023  \n",
       "2              January              2023  \n",
       "3              January              2023  \n",
       "4              January              2023  \n",
       "...                ...               ...  \n",
       "9995          December              2023  \n",
       "9996          December              2023  \n",
       "9997          December              2023  \n",
       "9998          December              2023  \n",
       "9999          December              2023  \n",
       "\n",
       "[10000 rows x 11 columns]"
      ]
     },
     "execution_count": 42,
     "metadata": {},
     "output_type": "execute_result"
    }
   ],
   "source": [
    "new_df"
   ]
  },
  {
   "cell_type": "code",
   "execution_count": 43,
   "id": "c050a9ee",
   "metadata": {},
   "outputs": [
    {
     "name": "stdout",
     "output_type": "stream",
     "text": [
      "<class 'pandas.core.frame.DataFrame'>\n",
      "Index: 10000 entries, TXN_1000555 to TXN_9999124\n",
      "Data columns (total 10 columns):\n",
      " #   Column                Non-Null Count  Dtype\n",
      "---  ------                --------------  -----\n",
      " 0   Cake                  10000 non-null  int64\n",
      " 1   Cake or Juice         10000 non-null  int64\n",
      " 2   Coffee                10000 non-null  int64\n",
      " 3   Cookie                10000 non-null  int64\n",
      " 4   Juice                 10000 non-null  int64\n",
      " 5   Salad                 10000 non-null  int64\n",
      " 6   Sandwich              10000 non-null  int64\n",
      " 7   Smoothie              10000 non-null  int64\n",
      " 8   Smoothie or Sandwich  10000 non-null  int64\n",
      " 9   Tea                   10000 non-null  int64\n",
      "dtypes: int64(10)\n",
      "memory usage: 859.4+ KB\n"
     ]
    },
    {
     "data": {
      "text/html": [
       "<div>\n",
       "<style scoped>\n",
       "    .dataframe tbody tr th:only-of-type {\n",
       "        vertical-align: middle;\n",
       "    }\n",
       "\n",
       "    .dataframe tbody tr th {\n",
       "        vertical-align: top;\n",
       "    }\n",
       "\n",
       "    .dataframe thead th {\n",
       "        text-align: right;\n",
       "    }\n",
       "</style>\n",
       "<table border=\"1\" class=\"dataframe\">\n",
       "  <thead>\n",
       "    <tr style=\"text-align: right;\">\n",
       "      <th>Item</th>\n",
       "      <th>Cake</th>\n",
       "      <th>Cake or Juice</th>\n",
       "      <th>Coffee</th>\n",
       "      <th>Cookie</th>\n",
       "      <th>Juice</th>\n",
       "      <th>Salad</th>\n",
       "      <th>Sandwich</th>\n",
       "      <th>Smoothie</th>\n",
       "      <th>Smoothie or Sandwich</th>\n",
       "      <th>Tea</th>\n",
       "    </tr>\n",
       "    <tr>\n",
       "      <th>Transaction ID</th>\n",
       "      <th></th>\n",
       "      <th></th>\n",
       "      <th></th>\n",
       "      <th></th>\n",
       "      <th></th>\n",
       "      <th></th>\n",
       "      <th></th>\n",
       "      <th></th>\n",
       "      <th></th>\n",
       "      <th></th>\n",
       "    </tr>\n",
       "  </thead>\n",
       "  <tbody>\n",
       "    <tr>\n",
       "      <th>TXN_1000555</th>\n",
       "      <td>0</td>\n",
       "      <td>0</td>\n",
       "      <td>0</td>\n",
       "      <td>0</td>\n",
       "      <td>0</td>\n",
       "      <td>0</td>\n",
       "      <td>0</td>\n",
       "      <td>0</td>\n",
       "      <td>0</td>\n",
       "      <td>1</td>\n",
       "    </tr>\n",
       "    <tr>\n",
       "      <th>TXN_1001832</th>\n",
       "      <td>0</td>\n",
       "      <td>0</td>\n",
       "      <td>0</td>\n",
       "      <td>0</td>\n",
       "      <td>0</td>\n",
       "      <td>1</td>\n",
       "      <td>0</td>\n",
       "      <td>0</td>\n",
       "      <td>0</td>\n",
       "      <td>0</td>\n",
       "    </tr>\n",
       "    <tr>\n",
       "      <th>TXN_1002457</th>\n",
       "      <td>0</td>\n",
       "      <td>0</td>\n",
       "      <td>0</td>\n",
       "      <td>1</td>\n",
       "      <td>0</td>\n",
       "      <td>0</td>\n",
       "      <td>0</td>\n",
       "      <td>0</td>\n",
       "      <td>0</td>\n",
       "      <td>0</td>\n",
       "    </tr>\n",
       "    <tr>\n",
       "      <th>TXN_1003246</th>\n",
       "      <td>0</td>\n",
       "      <td>0</td>\n",
       "      <td>0</td>\n",
       "      <td>0</td>\n",
       "      <td>1</td>\n",
       "      <td>0</td>\n",
       "      <td>0</td>\n",
       "      <td>0</td>\n",
       "      <td>0</td>\n",
       "      <td>0</td>\n",
       "    </tr>\n",
       "    <tr>\n",
       "      <th>TXN_1004184</th>\n",
       "      <td>0</td>\n",
       "      <td>0</td>\n",
       "      <td>0</td>\n",
       "      <td>0</td>\n",
       "      <td>0</td>\n",
       "      <td>0</td>\n",
       "      <td>0</td>\n",
       "      <td>1</td>\n",
       "      <td>0</td>\n",
       "      <td>0</td>\n",
       "    </tr>\n",
       "    <tr>\n",
       "      <th>...</th>\n",
       "      <td>...</td>\n",
       "      <td>...</td>\n",
       "      <td>...</td>\n",
       "      <td>...</td>\n",
       "      <td>...</td>\n",
       "      <td>...</td>\n",
       "      <td>...</td>\n",
       "      <td>...</td>\n",
       "      <td>...</td>\n",
       "      <td>...</td>\n",
       "    </tr>\n",
       "    <tr>\n",
       "      <th>TXN_9996968</th>\n",
       "      <td>0</td>\n",
       "      <td>0</td>\n",
       "      <td>0</td>\n",
       "      <td>0</td>\n",
       "      <td>0</td>\n",
       "      <td>0</td>\n",
       "      <td>1</td>\n",
       "      <td>0</td>\n",
       "      <td>0</td>\n",
       "      <td>0</td>\n",
       "    </tr>\n",
       "    <tr>\n",
       "      <th>TXN_9997263</th>\n",
       "      <td>0</td>\n",
       "      <td>0</td>\n",
       "      <td>0</td>\n",
       "      <td>1</td>\n",
       "      <td>0</td>\n",
       "      <td>0</td>\n",
       "      <td>0</td>\n",
       "      <td>0</td>\n",
       "      <td>0</td>\n",
       "      <td>0</td>\n",
       "    </tr>\n",
       "    <tr>\n",
       "      <th>TXN_9997620</th>\n",
       "      <td>0</td>\n",
       "      <td>0</td>\n",
       "      <td>0</td>\n",
       "      <td>1</td>\n",
       "      <td>0</td>\n",
       "      <td>0</td>\n",
       "      <td>0</td>\n",
       "      <td>0</td>\n",
       "      <td>0</td>\n",
       "      <td>0</td>\n",
       "    </tr>\n",
       "    <tr>\n",
       "      <th>TXN_9999113</th>\n",
       "      <td>0</td>\n",
       "      <td>0</td>\n",
       "      <td>0</td>\n",
       "      <td>0</td>\n",
       "      <td>1</td>\n",
       "      <td>0</td>\n",
       "      <td>0</td>\n",
       "      <td>0</td>\n",
       "      <td>0</td>\n",
       "      <td>0</td>\n",
       "    </tr>\n",
       "    <tr>\n",
       "      <th>TXN_9999124</th>\n",
       "      <td>0</td>\n",
       "      <td>0</td>\n",
       "      <td>0</td>\n",
       "      <td>0</td>\n",
       "      <td>1</td>\n",
       "      <td>0</td>\n",
       "      <td>0</td>\n",
       "      <td>0</td>\n",
       "      <td>0</td>\n",
       "      <td>0</td>\n",
       "    </tr>\n",
       "  </tbody>\n",
       "</table>\n",
       "<p>10000 rows × 10 columns</p>\n",
       "</div>"
      ],
      "text/plain": [
       "Item            Cake  Cake or Juice  Coffee  Cookie  Juice  Salad  Sandwich  \\\n",
       "Transaction ID                                                                \n",
       "TXN_1000555        0              0       0       0      0      0         0   \n",
       "TXN_1001832        0              0       0       0      0      1         0   \n",
       "TXN_1002457        0              0       0       1      0      0         0   \n",
       "TXN_1003246        0              0       0       0      1      0         0   \n",
       "TXN_1004184        0              0       0       0      0      0         0   \n",
       "...              ...            ...     ...     ...    ...    ...       ...   \n",
       "TXN_9996968        0              0       0       0      0      0         1   \n",
       "TXN_9997263        0              0       0       1      0      0         0   \n",
       "TXN_9997620        0              0       0       1      0      0         0   \n",
       "TXN_9999113        0              0       0       0      1      0         0   \n",
       "TXN_9999124        0              0       0       0      1      0         0   \n",
       "\n",
       "Item            Smoothie  Smoothie or Sandwich  Tea  \n",
       "Transaction ID                                       \n",
       "TXN_1000555            0                     0    1  \n",
       "TXN_1001832            0                     0    0  \n",
       "TXN_1002457            0                     0    0  \n",
       "TXN_1003246            0                     0    0  \n",
       "TXN_1004184            1                     0    0  \n",
       "...                  ...                   ...  ...  \n",
       "TXN_9996968            0                     0    0  \n",
       "TXN_9997263            0                     0    0  \n",
       "TXN_9997620            0                     0    0  \n",
       "TXN_9999113            0                     0    0  \n",
       "TXN_9999124            0                     0    0  \n",
       "\n",
       "[10000 rows x 10 columns]"
      ]
     },
     "metadata": {},
     "output_type": "display_data"
    },
    {
     "data": {
      "text/plain": [
       "None"
      ]
     },
     "metadata": {},
     "output_type": "display_data"
    }
   ],
   "source": [
    "trolly = pd.pivot_table(new_df,\n",
    "              index = \"Transaction ID\",\n",
    "              columns = \"Item\", \n",
    "              values = \"Quantity\",\n",
    "              aggfunc = \"nunique\", \n",
    "              fill_value = 0)\n",
    "\n",
    "display(trolly, trolly.info())"
   ]
  },
  {
   "cell_type": "code",
   "execution_count": 44,
   "id": "9e05cc99",
   "metadata": {},
   "outputs": [
    {
     "name": "stdout",
     "output_type": "stream",
     "text": [
      "<class 'pandas.core.frame.DataFrame'>\n",
      "Index: 10000 entries, TXN_1000555 to TXN_9999124\n",
      "Data columns (total 10 columns):\n",
      " #   Column                Non-Null Count  Dtype\n",
      "---  ------                --------------  -----\n",
      " 0   Cake                  10000 non-null  bool \n",
      " 1   Cake or Juice         10000 non-null  bool \n",
      " 2   Coffee                10000 non-null  bool \n",
      " 3   Cookie                10000 non-null  bool \n",
      " 4   Juice                 10000 non-null  bool \n",
      " 5   Salad                 10000 non-null  bool \n",
      " 6   Sandwich              10000 non-null  bool \n",
      " 7   Smoothie              10000 non-null  bool \n",
      " 8   Smoothie or Sandwich  10000 non-null  bool \n",
      " 9   Tea                   10000 non-null  bool \n",
      "dtypes: bool(10)\n",
      "memory usage: 175.8+ KB\n"
     ]
    },
    {
     "name": "stderr",
     "output_type": "stream",
     "text": [
      "C:\\Users\\Dita Dervinta\\AppData\\Local\\Temp\\ipykernel_17504\\435810508.py:7: FutureWarning: DataFrame.applymap has been deprecated. Use DataFrame.map instead.\n",
      "  trolly_encode = trolly.applymap(encode)\n"
     ]
    },
    {
     "data": {
      "text/html": [
       "<div>\n",
       "<style scoped>\n",
       "    .dataframe tbody tr th:only-of-type {\n",
       "        vertical-align: middle;\n",
       "    }\n",
       "\n",
       "    .dataframe tbody tr th {\n",
       "        vertical-align: top;\n",
       "    }\n",
       "\n",
       "    .dataframe thead th {\n",
       "        text-align: right;\n",
       "    }\n",
       "</style>\n",
       "<table border=\"1\" class=\"dataframe\">\n",
       "  <thead>\n",
       "    <tr style=\"text-align: right;\">\n",
       "      <th>Item</th>\n",
       "      <th>Cake</th>\n",
       "      <th>Cake or Juice</th>\n",
       "      <th>Coffee</th>\n",
       "      <th>Cookie</th>\n",
       "      <th>Juice</th>\n",
       "      <th>Salad</th>\n",
       "      <th>Sandwich</th>\n",
       "      <th>Smoothie</th>\n",
       "      <th>Smoothie or Sandwich</th>\n",
       "      <th>Tea</th>\n",
       "    </tr>\n",
       "    <tr>\n",
       "      <th>Transaction ID</th>\n",
       "      <th></th>\n",
       "      <th></th>\n",
       "      <th></th>\n",
       "      <th></th>\n",
       "      <th></th>\n",
       "      <th></th>\n",
       "      <th></th>\n",
       "      <th></th>\n",
       "      <th></th>\n",
       "      <th></th>\n",
       "    </tr>\n",
       "  </thead>\n",
       "  <tbody>\n",
       "    <tr>\n",
       "      <th>TXN_1000555</th>\n",
       "      <td>False</td>\n",
       "      <td>False</td>\n",
       "      <td>False</td>\n",
       "      <td>False</td>\n",
       "      <td>False</td>\n",
       "      <td>False</td>\n",
       "      <td>False</td>\n",
       "      <td>False</td>\n",
       "      <td>False</td>\n",
       "      <td>True</td>\n",
       "    </tr>\n",
       "    <tr>\n",
       "      <th>TXN_1001832</th>\n",
       "      <td>False</td>\n",
       "      <td>False</td>\n",
       "      <td>False</td>\n",
       "      <td>False</td>\n",
       "      <td>False</td>\n",
       "      <td>True</td>\n",
       "      <td>False</td>\n",
       "      <td>False</td>\n",
       "      <td>False</td>\n",
       "      <td>False</td>\n",
       "    </tr>\n",
       "    <tr>\n",
       "      <th>TXN_1002457</th>\n",
       "      <td>False</td>\n",
       "      <td>False</td>\n",
       "      <td>False</td>\n",
       "      <td>True</td>\n",
       "      <td>False</td>\n",
       "      <td>False</td>\n",
       "      <td>False</td>\n",
       "      <td>False</td>\n",
       "      <td>False</td>\n",
       "      <td>False</td>\n",
       "    </tr>\n",
       "    <tr>\n",
       "      <th>TXN_1003246</th>\n",
       "      <td>False</td>\n",
       "      <td>False</td>\n",
       "      <td>False</td>\n",
       "      <td>False</td>\n",
       "      <td>True</td>\n",
       "      <td>False</td>\n",
       "      <td>False</td>\n",
       "      <td>False</td>\n",
       "      <td>False</td>\n",
       "      <td>False</td>\n",
       "    </tr>\n",
       "    <tr>\n",
       "      <th>TXN_1004184</th>\n",
       "      <td>False</td>\n",
       "      <td>False</td>\n",
       "      <td>False</td>\n",
       "      <td>False</td>\n",
       "      <td>False</td>\n",
       "      <td>False</td>\n",
       "      <td>False</td>\n",
       "      <td>True</td>\n",
       "      <td>False</td>\n",
       "      <td>False</td>\n",
       "    </tr>\n",
       "    <tr>\n",
       "      <th>...</th>\n",
       "      <td>...</td>\n",
       "      <td>...</td>\n",
       "      <td>...</td>\n",
       "      <td>...</td>\n",
       "      <td>...</td>\n",
       "      <td>...</td>\n",
       "      <td>...</td>\n",
       "      <td>...</td>\n",
       "      <td>...</td>\n",
       "      <td>...</td>\n",
       "    </tr>\n",
       "    <tr>\n",
       "      <th>TXN_9996968</th>\n",
       "      <td>False</td>\n",
       "      <td>False</td>\n",
       "      <td>False</td>\n",
       "      <td>False</td>\n",
       "      <td>False</td>\n",
       "      <td>False</td>\n",
       "      <td>True</td>\n",
       "      <td>False</td>\n",
       "      <td>False</td>\n",
       "      <td>False</td>\n",
       "    </tr>\n",
       "    <tr>\n",
       "      <th>TXN_9997263</th>\n",
       "      <td>False</td>\n",
       "      <td>False</td>\n",
       "      <td>False</td>\n",
       "      <td>True</td>\n",
       "      <td>False</td>\n",
       "      <td>False</td>\n",
       "      <td>False</td>\n",
       "      <td>False</td>\n",
       "      <td>False</td>\n",
       "      <td>False</td>\n",
       "    </tr>\n",
       "    <tr>\n",
       "      <th>TXN_9997620</th>\n",
       "      <td>False</td>\n",
       "      <td>False</td>\n",
       "      <td>False</td>\n",
       "      <td>True</td>\n",
       "      <td>False</td>\n",
       "      <td>False</td>\n",
       "      <td>False</td>\n",
       "      <td>False</td>\n",
       "      <td>False</td>\n",
       "      <td>False</td>\n",
       "    </tr>\n",
       "    <tr>\n",
       "      <th>TXN_9999113</th>\n",
       "      <td>False</td>\n",
       "      <td>False</td>\n",
       "      <td>False</td>\n",
       "      <td>False</td>\n",
       "      <td>True</td>\n",
       "      <td>False</td>\n",
       "      <td>False</td>\n",
       "      <td>False</td>\n",
       "      <td>False</td>\n",
       "      <td>False</td>\n",
       "    </tr>\n",
       "    <tr>\n",
       "      <th>TXN_9999124</th>\n",
       "      <td>False</td>\n",
       "      <td>False</td>\n",
       "      <td>False</td>\n",
       "      <td>False</td>\n",
       "      <td>True</td>\n",
       "      <td>False</td>\n",
       "      <td>False</td>\n",
       "      <td>False</td>\n",
       "      <td>False</td>\n",
       "      <td>False</td>\n",
       "    </tr>\n",
       "  </tbody>\n",
       "</table>\n",
       "<p>10000 rows × 10 columns</p>\n",
       "</div>"
      ],
      "text/plain": [
       "Item             Cake  Cake or Juice  Coffee  Cookie  Juice  Salad  Sandwich  \\\n",
       "Transaction ID                                                                 \n",
       "TXN_1000555     False          False   False   False  False  False     False   \n",
       "TXN_1001832     False          False   False   False  False   True     False   \n",
       "TXN_1002457     False          False   False    True  False  False     False   \n",
       "TXN_1003246     False          False   False   False   True  False     False   \n",
       "TXN_1004184     False          False   False   False  False  False     False   \n",
       "...               ...            ...     ...     ...    ...    ...       ...   \n",
       "TXN_9996968     False          False   False   False  False  False      True   \n",
       "TXN_9997263     False          False   False    True  False  False     False   \n",
       "TXN_9997620     False          False   False    True  False  False     False   \n",
       "TXN_9999113     False          False   False   False   True  False     False   \n",
       "TXN_9999124     False          False   False   False   True  False     False   \n",
       "\n",
       "Item            Smoothie  Smoothie or Sandwich    Tea  \n",
       "Transaction ID                                         \n",
       "TXN_1000555        False                 False   True  \n",
       "TXN_1001832        False                 False  False  \n",
       "TXN_1002457        False                 False  False  \n",
       "TXN_1003246        False                 False  False  \n",
       "TXN_1004184         True                 False  False  \n",
       "...                  ...                   ...    ...  \n",
       "TXN_9996968        False                 False  False  \n",
       "TXN_9997263        False                 False  False  \n",
       "TXN_9997620        False                 False  False  \n",
       "TXN_9999113        False                 False  False  \n",
       "TXN_9999124        False                 False  False  \n",
       "\n",
       "[10000 rows x 10 columns]"
      ]
     },
     "metadata": {},
     "output_type": "display_data"
    },
    {
     "data": {
      "text/plain": [
       "None"
      ]
     },
     "metadata": {},
     "output_type": "display_data"
    }
   ],
   "source": [
    "def encode(x) :\n",
    "    if x == 0 :\n",
    "        return False\n",
    "    if x > 0 :\n",
    "        return True\n",
    "    \n",
    "trolly_encode = trolly.applymap(encode)\n",
    "display(trolly_encode, trolly_encode.info())"
   ]
  },
  {
   "cell_type": "code",
   "execution_count": 45,
   "id": "7b4dd90e",
   "metadata": {},
   "outputs": [
    {
     "data": {
      "text/html": [
       "<div>\n",
       "<style scoped>\n",
       "    .dataframe tbody tr th:only-of-type {\n",
       "        vertical-align: middle;\n",
       "    }\n",
       "\n",
       "    .dataframe tbody tr th {\n",
       "        vertical-align: top;\n",
       "    }\n",
       "\n",
       "    .dataframe thead th {\n",
       "        text-align: right;\n",
       "    }\n",
       "</style>\n",
       "<table border=\"1\" class=\"dataframe\">\n",
       "  <thead>\n",
       "    <tr style=\"text-align: right;\">\n",
       "      <th></th>\n",
       "      <th>support</th>\n",
       "      <th>itemsets</th>\n",
       "      <th>product_count</th>\n",
       "    </tr>\n",
       "  </thead>\n",
       "  <tbody>\n",
       "    <tr>\n",
       "      <th>0</th>\n",
       "      <td>0.1297</td>\n",
       "      <td>(Coffee)</td>\n",
       "      <td>1</td>\n",
       "    </tr>\n",
       "    <tr>\n",
       "      <th>1</th>\n",
       "      <td>0.1272</td>\n",
       "      <td>(Salad)</td>\n",
       "      <td>1</td>\n",
       "    </tr>\n",
       "    <tr>\n",
       "      <th>2</th>\n",
       "      <td>0.1213</td>\n",
       "      <td>(Cookie)</td>\n",
       "      <td>1</td>\n",
       "    </tr>\n",
       "    <tr>\n",
       "      <th>3</th>\n",
       "      <td>0.1207</td>\n",
       "      <td>(Tea)</td>\n",
       "      <td>1</td>\n",
       "    </tr>\n",
       "    <tr>\n",
       "      <th>4</th>\n",
       "      <td>0.1171</td>\n",
       "      <td>(Juice)</td>\n",
       "      <td>1</td>\n",
       "    </tr>\n",
       "    <tr>\n",
       "      <th>5</th>\n",
       "      <td>0.1139</td>\n",
       "      <td>(Cake)</td>\n",
       "      <td>1</td>\n",
       "    </tr>\n",
       "    <tr>\n",
       "      <th>6</th>\n",
       "      <td>0.1131</td>\n",
       "      <td>(Sandwich)</td>\n",
       "      <td>1</td>\n",
       "    </tr>\n",
       "    <tr>\n",
       "      <th>7</th>\n",
       "      <td>0.1096</td>\n",
       "      <td>(Smoothie)</td>\n",
       "      <td>1</td>\n",
       "    </tr>\n",
       "    <tr>\n",
       "      <th>8</th>\n",
       "      <td>0.0247</td>\n",
       "      <td>(Cake or Juice)</td>\n",
       "      <td>1</td>\n",
       "    </tr>\n",
       "    <tr>\n",
       "      <th>9</th>\n",
       "      <td>0.0227</td>\n",
       "      <td>(Smoothie or Sandwich)</td>\n",
       "      <td>1</td>\n",
       "    </tr>\n",
       "  </tbody>\n",
       "</table>\n",
       "</div>"
      ],
      "text/plain": [
       "   support                itemsets  product_count\n",
       "0   0.1297                (Coffee)              1\n",
       "1   0.1272                 (Salad)              1\n",
       "2   0.1213                (Cookie)              1\n",
       "3   0.1207                   (Tea)              1\n",
       "4   0.1171                 (Juice)              1\n",
       "5   0.1139                  (Cake)              1\n",
       "6   0.1131              (Sandwich)              1\n",
       "7   0.1096              (Smoothie)              1\n",
       "8   0.0247         (Cake or Juice)              1\n",
       "9   0.0227  (Smoothie or Sandwich)              1"
      ]
     },
     "execution_count": 45,
     "metadata": {},
     "output_type": "execute_result"
    }
   ],
   "source": [
    "from mlxtend.frequent_patterns import apriori\n",
    "\n",
    "frequent_item = apriori(trolly_encode, min_support = .01, use_colnames = True).sort_values(\"support\", ascending = False).reset_index(drop=True)\n",
    "frequent_item[\"product_count\"] = frequent_item[\"itemsets\"].apply(lambda x : len(x))\n",
    "frequent_item"
   ]
  }
 ],
 "metadata": {
  "kernelspec": {
   "display_name": "Python 3 (ipykernel)",
   "language": "python",
   "name": "python3"
  },
  "language_info": {
   "codemirror_mode": {
    "name": "ipython",
    "version": 3
   },
   "file_extension": ".py",
   "mimetype": "text/x-python",
   "name": "python",
   "nbconvert_exporter": "python",
   "pygments_lexer": "ipython3",
   "version": "3.11.5"
  }
 },
 "nbformat": 4,
 "nbformat_minor": 5
}
